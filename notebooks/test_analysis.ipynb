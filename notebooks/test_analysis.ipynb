{
 "cells": [
  {
   "cell_type": "code",
   "execution_count": 6,
   "id": "19a5327c",
   "metadata": {},
   "outputs": [],
   "source": [
    "import pandas as pd \n",
    "import seaborn as sns\n",
    "import matplotlib.pyplot as plt\n",
    "from statsmodels.stats.proportion import proportions_ztest\n",
    "from statsmodels.stats.proportion import proportion_confint"
   ]
  },
  {
   "cell_type": "code",
   "execution_count": 3,
   "id": "f4faa28c",
   "metadata": {},
   "outputs": [],
   "source": [
    "df = pd.read_csv('../data/ab_test_data.csv')\n",
    "df['timestamp'] = pd.to_datetime(df['timestamp'])"
   ]
  },
  {
   "cell_type": "code",
   "execution_count": 5,
   "id": "8fb91357",
   "metadata": {},
   "outputs": [
    {
     "name": "stdout",
     "output_type": "stream",
     "text": [
      "Z-statistic: -2.4050\n",
      "P-value: 0.0162\n",
      "Obvious, A and B test has significant difference\n"
     ]
    }
   ],
   "source": [
    "group_summary = df.groupby('group')['converted'].agg(['sum', 'count'])\n",
    "successes = group_summary['sum'].values\n",
    "n_obs = group_summary['count'].values\n",
    "\n",
    "z_stat, p_val = proportions_ztest(successes, n_obs)\n",
    "\n",
    "print(f\"Z-statistic: {z_stat:.4f}\")\n",
    "print(f\"P-value: {p_val:.4f}\")\n",
    "\n",
    "if p_val < 0.05:\n",
    "    print(\"Obvious, A and B test has significant difference\")\n",
    "else:\n",
    "    print(\"Not obvious, A and B test has no significant difference\")"
   ]
  },
  {
   "cell_type": "code",
   "execution_count": 7,
   "id": "203e9570",
   "metadata": {},
   "outputs": [
    {
     "name": "stderr",
     "output_type": "stream",
     "text": [
      "/tmp/ipykernel_3021/1994797927.py:14: UserWarning: \n",
      "\n",
      "The `join` parameter is deprecated and will be removed in v0.15.0. You can remove the line between points with `linestyle='none'`.\n",
      "\n",
      "  sns.pointplot(data=ci_df, x='group', y='conversion_rate', join=False, capsize=0.2)\n",
      "/home/codespace/.local/lib/python3.12/site-packages/IPython/core/pylabtools.py:170: UserWarning: Glyph 36716 (\\N{CJK UNIFIED IDEOGRAPH-8F6C}) missing from font(s) DejaVu Sans.\n",
      "  fig.canvas.print_figure(bytes_io, **kw)\n",
      "/home/codespace/.local/lib/python3.12/site-packages/IPython/core/pylabtools.py:170: UserWarning: Glyph 21270 (\\N{CJK UNIFIED IDEOGRAPH-5316}) missing from font(s) DejaVu Sans.\n",
      "  fig.canvas.print_figure(bytes_io, **kw)\n",
      "/home/codespace/.local/lib/python3.12/site-packages/IPython/core/pylabtools.py:170: UserWarning: Glyph 29575 (\\N{CJK UNIFIED IDEOGRAPH-7387}) missing from font(s) DejaVu Sans.\n",
      "  fig.canvas.print_figure(bytes_io, **kw)\n",
      "/home/codespace/.local/lib/python3.12/site-packages/IPython/core/pylabtools.py:170: UserWarning: Glyph 21450 (\\N{CJK UNIFIED IDEOGRAPH-53CA}) missing from font(s) DejaVu Sans.\n",
      "  fig.canvas.print_figure(bytes_io, **kw)\n",
      "/home/codespace/.local/lib/python3.12/site-packages/IPython/core/pylabtools.py:170: UserWarning: Glyph 20854 (\\N{CJK UNIFIED IDEOGRAPH-5176}) missing from font(s) DejaVu Sans.\n",
      "  fig.canvas.print_figure(bytes_io, **kw)\n",
      "/home/codespace/.local/lib/python3.12/site-packages/IPython/core/pylabtools.py:170: UserWarning: Glyph 32622 (\\N{CJK UNIFIED IDEOGRAPH-7F6E}) missing from font(s) DejaVu Sans.\n",
      "  fig.canvas.print_figure(bytes_io, **kw)\n",
      "/home/codespace/.local/lib/python3.12/site-packages/IPython/core/pylabtools.py:170: UserWarning: Glyph 20449 (\\N{CJK UNIFIED IDEOGRAPH-4FE1}) missing from font(s) DejaVu Sans.\n",
      "  fig.canvas.print_figure(bytes_io, **kw)\n",
      "/home/codespace/.local/lib/python3.12/site-packages/IPython/core/pylabtools.py:170: UserWarning: Glyph 21306 (\\N{CJK UNIFIED IDEOGRAPH-533A}) missing from font(s) DejaVu Sans.\n",
      "  fig.canvas.print_figure(bytes_io, **kw)\n",
      "/home/codespace/.local/lib/python3.12/site-packages/IPython/core/pylabtools.py:170: UserWarning: Glyph 38388 (\\N{CJK UNIFIED IDEOGRAPH-95F4}) missing from font(s) DejaVu Sans.\n",
      "  fig.canvas.print_figure(bytes_io, **kw)\n"
     ]
    },
    {
     "data": {
      "image/png": "[encoded data removed]",
      "text/plain": [
       "<Figure size 600x400 with 1 Axes>"
      ]
     },
     "metadata": {},
     "output_type": "display_data"
    }
   ],
   "source": [
    "confint = [\n",
    "    proportion_confint(count=successes[i], nobs=n_obs[i], alpha=0.05, method='normal')\n",
    "    for i in range(2)\n",
    "]\n",
    "\n",
    "ci_df = pd.DataFrame({\n",
    "    'group': ['A', 'B'],\n",
    "    'conversion_rate': successes / n_obs,\n",
    "    'lower_ci': [c[0] for c in confint],\n",
    "    'upper_ci': [c[1] for c in confint]\n",
    "})\n",
    "\n",
    "plt.figure(figsize=(6, 4))\n",
    "sns.pointplot(data=ci_df, x='group', y='conversion_rate', join=False, capsize=0.2)\n",
    "plt.errorbar(x=[0, 1], y=ci_df['conversion_rate'], \n",
    "             yerr=[ci_df['conversion_rate'] - ci_df['lower_ci'], \n",
    "                   ci_df['upper_ci'] - ci_df['conversion_rate']], \n",
    "             fmt='none', c='black', capsize=5)\n",
    "plt.title(\"转化率及其置信区间\")\n",
    "plt.ylim(0, 0.2)\n",
    "plt.grid(axis='y')\n",
    "plt.show()"
   ]
  }
 ],
 "metadata": {
  "kernelspec": {
   "display_name": "Python 3",
   "language": "python",
   "name": "python3"
  },
  "language_info": {
   "codemirror_mode": {
    "name": "ipython",
    "version": 3
   },
   "file_extension": ".py",
   "mimetype": "text/x-python",
   "name": "python",
   "nbconvert_exporter": "python",
   "pygments_lexer": "ipython3",
   "version": "3.12.1"
  }
 },
 "nbformat": 4,
 "nbformat_minor": 5
}
