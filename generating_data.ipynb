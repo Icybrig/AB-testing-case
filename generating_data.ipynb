{
 "cells": [
  {
   "cell_type": "code",
   "execution_count": null,
   "id": "3467931e",
   "metadata": {},
   "outputs": [],
   "source": [
    "import pandas as pd\n",
    "import numpy as np\n",
    "from datetime import datetime, timedelta\n",
    "import random\n",
    "\n",
    "np.random.seed(42)\n",
    "random.seed(42)\n",
    "\n",
    "n_users = 5000\n",
    "start_date = datetime(2025, 4, 1)\n",
    "groups = ['A', 'B']\n",
    "group_probs = [0.5, 0.5]\n",
    "\n",
    "user_ids = np.arange(100000, 100000 + n_users)\n",
    "user_groups = np.random.choice(groups, size=n_users, p=group_probs)\n",
    "\n",
    "def generate_events(user_id, group):\n",
    "    events = []\n",
    "    t = start_date + timedelta(minutes=np.random.randint(0, 60*24*30))  # 30天内\n",
    "    events.append((user_id, group, 'view', t))\n",
    "    \n",
    "    click_prob = 0.30 if group == 'A' else 0.38\n",
    "    if np.random.rand() < click_prob:\n",
    "        t += timedelta(seconds=np.random.randint(5, 300))\n",
    "        events.append((user_id, group, 'click', t))\n",
    "        purchase_prob = 0.08 if group == 'A' else 0.12\n",
    "        if np.random.rand() < purchase_prob:\n",
    "            t += timedelta(seconds=np.random.randint(10, 600))\n",
    "            events.append((user_id, group, 'purchase', t))\n",
    "    \n",
    "    return events\n",
    "\n",
    "all_events = []\n",
    "for uid, grp in zip(user_ids, user_groups):\n",
    "    all_events.extend(generate_events(uid, grp))\n",
    "\n",
    "df = pd.DataFrame(all_events, columns=[\"user_id\", \"group\", \"event_type\", \"timestamp\"])\n",
    "df = df.sort_values(by=\"timestamp\").reset_index(drop=True)\n",
    "\n",
    "df.to_csv(\"ab_test_event_data.csv\", index=False)\n",
    "print(\"✅ 已保存 ab_test_event_data.csv\")\n"
   ]
  }
 ],
 "metadata": {
  "language_info": {
   "name": "python"
  }
 },
 "nbformat": 4,
 "nbformat_minor": 5
}
